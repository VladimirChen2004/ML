{
 "cells": [
  {
   "cell_type": "markdown",
   "id": "3a564d5f",
   "metadata": {
    "id": "3a564d5f"
   },
   "source": [
    "#  Определение частей речи с использованием рекуррентных нейронных сетей\n",
    "\n",
    "__Автор задач: Блохин Н.В. (NVBlokhin@fa.ru)__\n",
    "\n",
    "Материалы:\n",
    "* Deep Learning with PyTorch (2020) Авторы: Eli Stevens, Luca Antiga, Thomas Viehmann\n",
    "* https://pytorch.org/tutorials/beginner/nlp/sequence_models_tutorial.html\n",
    "* https://notebook.community/sameersingh/uci-statnlp/tutorials/rnn_examples\n",
    "* https://github.com/bentrevett/pytorch-pos-tagging/blob/master/1_bilstm.ipynb\n",
    "* https://github.com/Koziev/rupostagger"
   ]
  },
  {
   "cell_type": "markdown",
   "id": "c9ecd663",
   "metadata": {
    "id": "c9ecd663"
   },
   "source": [
    "## Задачи для совместного разбора"
   ]
  },
  {
   "cell_type": "markdown",
   "id": "9c33a493",
   "metadata": {
    "id": "9c33a493"
   },
   "source": [
    "1\\. Рассмотрите пример работы двунаправленного рекуррентого слоя\n",
    "\n",
    "![bi-lstm](https://discuss.pytorch.org/uploads/default/original/3X/d/3/d34a27c490e75c1a0a96128c5726ab6656427d90.jpeg)"
   ]
  },
  {
   "cell_type": "code",
   "execution_count": null,
   "id": "VXIshuUl8aVS",
   "metadata": {
    "id": "VXIshuUl8aVS"
   },
   "outputs": [],
   "source": [
    "import torch as th\n",
    "import torch.nn as nn\n",
    "\n",
    "batch_size, seq_len, embedding_dim = 16, 10, 32\n",
    "x = th.rand(batch_size, seq_len, embedding_dim)"
   ]
  },
  {
   "cell_type": "code",
   "execution_count": null,
   "id": "XqDLIgb99B9B",
   "metadata": {
    "id": "XqDLIgb99B9B"
   },
   "outputs": [],
   "source": [
    "hidden_size = 50\n",
    "lstm = nn.LSTM(input_size=embedding_dim, hidden_size=hidden_size, num_layers=1, batch_first=True,\n",
    "               bidirectional=False)"
   ]
  },
  {
   "cell_type": "code",
   "execution_count": null,
   "id": "xIRtSBXy9B6R",
   "metadata": {
    "colab": {
     "base_uri": "https://localhost:8080/"
    },
    "id": "xIRtSBXy9B6R",
    "outputId": "27c38f42-f9c2-4542-ea9c-c119e8c3080d"
   },
   "outputs": [
    {
     "data": {
      "text/plain": [
       "(torch.Size([16, 10, 50]), torch.Size([1, 16, 50]), torch.Size([1, 16, 50]))"
      ]
     },
     "execution_count": 4,
     "metadata": {},
     "output_type": "execute_result"
    }
   ],
   "source": [
    "o, (h, c) = lstm(x)\n",
    "o.shape, h.shape, c.shape"
   ]
  },
  {
   "cell_type": "code",
   "execution_count": null,
   "id": "ItXzMZ-t9B4J",
   "metadata": {
    "colab": {
     "base_uri": "https://localhost:8080/"
    },
    "id": "ItXzMZ-t9B4J",
    "outputId": "3b81ad25-dee7-4a8a-c11d-def8703f5904"
   },
   "outputs": [
    {
     "data": {
      "text/plain": [
       "(torch.Size([16, 10, 100]), torch.Size([2, 16, 50]), torch.Size([2, 16, 50]))"
      ]
     },
     "execution_count": 13,
     "metadata": {},
     "output_type": "execute_result"
    }
   ],
   "source": [
    "hidden_size = 50\n",
    "lstm = nn.LSTM(input_size=embedding_dim, hidden_size=hidden_size, num_layers=1, batch_first=True,\n",
    "               bidirectional=True)\n",
    "o, (h, c) = lstm(x)\n",
    "o.shape, h.shape, c.shape"
   ]
  },
  {
   "cell_type": "code",
   "execution_count": null,
   "id": "9b70MXbq-AVH",
   "metadata": {
    "colab": {
     "base_uri": "https://localhost:8080/"
    },
    "id": "9b70MXbq-AVH",
    "outputId": "62c0f21e-95a3-4391-8bb7-92e127321ad3"
   },
   "outputs": [
    {
     "data": {
      "text/plain": [
       "tensor([ 0.2225,  0.0380, -0.1083, -0.0801, -0.2656,  0.0628,  0.0513,  0.0261,\n",
       "         0.0650, -0.2690, -0.0823, -0.1691, -0.0364,  0.0298,  0.1987,  0.0539,\n",
       "         0.0078,  0.0439, -0.1550,  0.0394,  0.1325, -0.1341, -0.1239, -0.0395,\n",
       "        -0.1008, -0.0762, -0.2602, -0.1294,  0.2814, -0.1728,  0.0504, -0.0326,\n",
       "        -0.0576,  0.0481,  0.1144,  0.1142, -0.0880,  0.0385, -0.1532,  0.1644,\n",
       "        -0.1992, -0.1429, -0.1257, -0.0257,  0.0251,  0.0166, -0.1102, -0.0107,\n",
       "        -0.0635, -0.0639], grad_fn=<SliceBackward0>)"
      ]
     },
     "execution_count": 14,
     "metadata": {},
     "output_type": "execute_result"
    }
   ],
   "source": [
    "h[0, 0, :]"
   ]
  },
  {
   "cell_type": "code",
   "execution_count": null,
   "id": "QNXXNdXI-IGZ",
   "metadata": {
    "colab": {
     "base_uri": "https://localhost:8080/"
    },
    "id": "QNXXNdXI-IGZ",
    "outputId": "8dfaf2b9-b2e6-4b67-8e3f-33a9cd680f9a"
   },
   "outputs": [
    {
     "data": {
      "text/plain": [
       "tensor([ 0.2225,  0.0380, -0.1083, -0.0801, -0.2656,  0.0628,  0.0513,  0.0261,\n",
       "         0.0650, -0.2690, -0.0823, -0.1691, -0.0364,  0.0298,  0.1987,  0.0539,\n",
       "         0.0078,  0.0439, -0.1550,  0.0394,  0.1325, -0.1341, -0.1239, -0.0395,\n",
       "        -0.1008, -0.0762, -0.2602, -0.1294,  0.2814, -0.1728,  0.0504, -0.0326,\n",
       "        -0.0576,  0.0481,  0.1144,  0.1142, -0.0880,  0.0385, -0.1532,  0.1644,\n",
       "        -0.1992, -0.1429, -0.1257, -0.0257,  0.0251,  0.0166, -0.1102, -0.0107,\n",
       "        -0.0635, -0.0639,  0.0138,  0.0328, -0.0247, -0.0680, -0.0009, -0.0775,\n",
       "        -0.0399, -0.0193,  0.1641, -0.0661, -0.0777, -0.0233,  0.0852, -0.0320,\n",
       "         0.1212, -0.1132,  0.0644,  0.0358, -0.0633,  0.0623, -0.1275,  0.1614,\n",
       "        -0.0267,  0.0729, -0.1908, -0.0756,  0.0221, -0.0060,  0.0717, -0.0315,\n",
       "         0.0130,  0.0021,  0.0933, -0.0013,  0.1029, -0.0976, -0.0168, -0.0674,\n",
       "         0.1602, -0.0884,  0.1233, -0.0201,  0.0296, -0.0249,  0.0618,  0.1496,\n",
       "         0.1203, -0.0267,  0.0224,  0.0225], grad_fn=<SliceBackward0>)"
      ]
     },
     "execution_count": 15,
     "metadata": {},
     "output_type": "execute_result"
    }
   ],
   "source": [
    "o[0, -1, :]"
   ]
  },
  {
   "cell_type": "code",
   "execution_count": null,
   "id": "PqZSuJBO-IDx",
   "metadata": {
    "colab": {
     "base_uri": "https://localhost:8080/"
    },
    "id": "PqZSuJBO-IDx",
    "outputId": "2299777b-f944-4eb6-9120-ec6ac23706cd"
   },
   "outputs": [
    {
     "data": {
      "text/plain": [
       "tensor([-0.0161,  0.0278, -0.1103, -0.0657, -0.0256, -0.1899, -0.0180, -0.1376,\n",
       "         0.2140, -0.0050, -0.0849, -0.0605,  0.0525,  0.0881,  0.1636, -0.1957,\n",
       "         0.0535, -0.0374, -0.0842,  0.1017, -0.1624,  0.2005, -0.1486,  0.1752,\n",
       "        -0.2804, -0.0627,  0.0134,  0.0231,  0.1931,  0.1072, -0.0324, -0.0635,\n",
       "         0.1132,  0.0802,  0.0840, -0.1106, -0.0035, -0.0104,  0.2508, -0.1129,\n",
       "         0.3782, -0.0840, -0.0715, -0.0103,  0.0409,  0.2694,  0.2118,  0.0100,\n",
       "        -0.0968,  0.0260], grad_fn=<SliceBackward0>)"
      ]
     },
     "execution_count": 19,
     "metadata": {},
     "output_type": "execute_result"
    }
   ],
   "source": [
    "h[1, 0, :]"
   ]
  },
  {
   "cell_type": "code",
   "execution_count": null,
   "id": "yCzC_QCy-IBZ",
   "metadata": {
    "colab": {
     "base_uri": "https://localhost:8080/"
    },
    "id": "yCzC_QCy-IBZ",
    "outputId": "d23269f1-6274-45b4-8222-51d1ca10a346"
   },
   "outputs": [
    {
     "data": {
      "text/plain": [
       "tensor([-0.0161,  0.0278, -0.1103, -0.0657, -0.0256, -0.1899, -0.0180, -0.1376,\n",
       "         0.2140, -0.0050, -0.0849, -0.0605,  0.0525,  0.0881,  0.1636, -0.1957,\n",
       "         0.0535, -0.0374, -0.0842,  0.1017, -0.1624,  0.2005, -0.1486,  0.1752,\n",
       "        -0.2804, -0.0627,  0.0134,  0.0231,  0.1931,  0.1072, -0.0324, -0.0635,\n",
       "         0.1132,  0.0802,  0.0840, -0.1106, -0.0035, -0.0104,  0.2508, -0.1129,\n",
       "         0.3782, -0.0840, -0.0715, -0.0103,  0.0409,  0.2694,  0.2118,  0.0100,\n",
       "        -0.0968,  0.0260], grad_fn=<SliceBackward0>)"
      ]
     },
     "execution_count": 20,
     "metadata": {},
     "output_type": "execute_result"
    }
   ],
   "source": [
    "o[0, 0, 50:]"
   ]
  },
  {
   "cell_type": "code",
   "execution_count": null,
   "id": "NH_NO8-L-H1Z",
   "metadata": {
    "colab": {
     "base_uri": "https://localhost:8080/"
    },
    "id": "NH_NO8-L-H1Z",
    "outputId": "7e8710fe-5b9c-4236-ddad-f02f7f5666d4"
   },
   "outputs": [
    {
     "data": {
      "text/plain": [
       "torch.Size([16, 10, 5])"
      ]
     },
     "execution_count": 22,
     "metadata": {},
     "output_type": "execute_result"
    }
   ],
   "source": [
    "n_pos = 5\n",
    "fc = nn.Linear(2*hidden_size, n_pos)\n",
    "fc(o).shape"
   ]
  },
  {
   "cell_type": "markdown",
   "id": "cffc8841",
   "metadata": {
    "id": "cffc8841"
   },
   "source": [
    "2\\. Рассмотрите пример работы многоуровневого рекуррентого слоя\n",
    "\n",
    "![stacked-rnn](https://lh6.googleusercontent.com/rC1DSgjlmobtRxMPFi14hkMdDqSkEkuOX7EW_QrLFSymjasIM95Za2Wf-VwSC1Tq1sjJlOPLJ92q7PTKJh2hjBoXQawM6MQC27east67GFDklTalljlt0cFLZnPMdhp8erzO)"
   ]
  },
  {
   "cell_type": "code",
   "execution_count": null,
   "id": "8nhFkKliAarc",
   "metadata": {
    "colab": {
     "base_uri": "https://localhost:8080/"
    },
    "id": "8nhFkKliAarc",
    "outputId": "160fda09-6b62-4d78-c921-6ed478a86097"
   },
   "outputs": [
    {
     "data": {
      "text/plain": [
       "(torch.Size([16, 10, 50]), torch.Size([2, 16, 50]), torch.Size([2, 16, 50]))"
      ]
     },
     "execution_count": 23,
     "metadata": {},
     "output_type": "execute_result"
    }
   ],
   "source": [
    "hidden_size = 50\n",
    "lstm = nn.LSTM(input_size=embedding_dim, hidden_size=hidden_size, num_layers=2, batch_first=True,\n",
    "               bidirectional=False)\n",
    "o, (h, c) = lstm(x)\n",
    "o.shape, h.shape, c.shape"
   ]
  },
  {
   "cell_type": "code",
   "execution_count": null,
   "id": "7PMvkOZlAcdc",
   "metadata": {
    "colab": {
     "base_uri": "https://localhost:8080/"
    },
    "id": "7PMvkOZlAcdc",
    "outputId": "563cb38a-276c-436b-b512-db83ec2136e7"
   },
   "outputs": [
    {
     "data": {
      "text/plain": [
       "tensor([-0.0595,  0.1203,  0.0415,  0.0843,  0.0398, -0.0573,  0.0359, -0.0064,\n",
       "        -0.0939, -0.0174, -0.0269,  0.0084,  0.0922,  0.1270,  0.1053,  0.0923,\n",
       "         0.0515,  0.0646,  0.0466, -0.0165,  0.0424,  0.0675,  0.0384,  0.0206,\n",
       "         0.0702, -0.1011, -0.0541,  0.1278, -0.0989, -0.0476, -0.0126,  0.0290,\n",
       "         0.1350,  0.0322,  0.0668, -0.0722,  0.0203,  0.0684,  0.0258, -0.1315,\n",
       "         0.0078,  0.0041, -0.0020,  0.0292, -0.0099, -0.0077, -0.0392, -0.0202,\n",
       "         0.0134,  0.1454], grad_fn=<SelectBackward0>)"
      ]
     },
     "execution_count": 24,
     "metadata": {},
     "output_type": "execute_result"
    }
   ],
   "source": [
    "o[0, -1]"
   ]
  },
  {
   "cell_type": "code",
   "execution_count": null,
   "id": "1PJJR0jXAuE2",
   "metadata": {
    "colab": {
     "base_uri": "https://localhost:8080/"
    },
    "id": "1PJJR0jXAuE2",
    "outputId": "0cae115a-b108-489e-e63f-aaaebcf2ce94"
   },
   "outputs": [
    {
     "data": {
      "text/plain": [
       "tensor([-0.0595,  0.1203,  0.0415,  0.0843,  0.0398, -0.0573,  0.0359, -0.0064,\n",
       "        -0.0939, -0.0174, -0.0269,  0.0084,  0.0922,  0.1270,  0.1053,  0.0923,\n",
       "         0.0515,  0.0646,  0.0466, -0.0165,  0.0424,  0.0675,  0.0384,  0.0206,\n",
       "         0.0702, -0.1011, -0.0541,  0.1278, -0.0989, -0.0476, -0.0126,  0.0290,\n",
       "         0.1350,  0.0322,  0.0668, -0.0722,  0.0203,  0.0684,  0.0258, -0.1315,\n",
       "         0.0078,  0.0041, -0.0020,  0.0292, -0.0099, -0.0077, -0.0392, -0.0202,\n",
       "         0.0134,  0.1454], grad_fn=<SelectBackward0>)"
      ]
     },
     "execution_count": 25,
     "metadata": {},
     "output_type": "execute_result"
    }
   ],
   "source": [
    "h[1, 0]"
   ]
  },
  {
   "cell_type": "code",
   "execution_count": null,
   "id": "qGsd3Je3A7s5",
   "metadata": {
    "colab": {
     "base_uri": "https://localhost:8080/"
    },
    "id": "qGsd3Je3A7s5",
    "outputId": "3a5c062f-d36e-48bc-cd66-e26e511afe11"
   },
   "outputs": [
    {
     "data": {
      "text/plain": [
       "(torch.Size([16, 10, 100]), torch.Size([4, 16, 50]), torch.Size([4, 16, 50]))"
      ]
     },
     "execution_count": 26,
     "metadata": {},
     "output_type": "execute_result"
    }
   ],
   "source": [
    "hidden_size = 50\n",
    "lstm = nn.LSTM(input_size=embedding_dim, hidden_size=hidden_size, num_layers=2, batch_first=True,\n",
    "               bidirectional=True)\n",
    "o, (h, c) = lstm(x)\n",
    "o.shape, h.shape, c.shape"
   ]
  },
  {
   "cell_type": "markdown",
   "id": "4d7b6d63",
   "metadata": {
    "id": "4d7b6d63"
   },
   "source": [
    "## Задачи для самостоятельного решения"
   ]
  },
  {
   "cell_type": "markdown",
   "id": "e9c5b920",
   "metadata": {
    "id": "e9c5b920"
   },
   "source": [
    "<p class=\"task\" id=\"1\"></p>\n",
    "\n",
    "1\\. Считайте файл `pos_data.txt` и создайте на его основе два списка `X` и `y` следующего вида.\n",
    "\n",
    "<img src=\"data:image/png;base64,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\" >\n",
    "\n",
    "Найдите 75% квантиль распределения длин предложений и удалите из выборки те предложения, которые длиннее данного значения. Выведите на экран пару `(X[0], y[0])` и количество элементов в `X` и `y`.\n",
    "\n",
    "- [ ] Проверено на семинаре"
   ]
  },
  {
   "cell_type": "code",
   "execution_count": null,
   "id": "gVGdNbRD3Ovw",
   "metadata": {
    "colab": {
     "base_uri": "https://localhost:8080/"
    },
    "id": "gVGdNbRD3Ovw",
    "outputId": "96bafa88-c719-4057-e2d6-28c77e0a24be"
   },
   "outputs": [
    {
     "name": "stdout",
     "output_type": "stream",
     "text": [
      "Mounted at /content/drive\n"
     ]
    }
   ],
   "source": [
    "from google.colab import drive\n",
    "drive.mount('/content/drive')"
   ]
  },
  {
   "cell_type": "code",
   "execution_count": null,
   "id": "sJiYaUXx3Deb",
   "metadata": {
    "execution": {
     "iopub.execute_input": "2025-04-18T10:31:29.132205Z",
     "iopub.status.busy": "2025-04-18T10:31:29.131929Z",
     "iopub.status.idle": "2025-04-18T10:31:33.879931Z",
     "shell.execute_reply": "2025-04-18T10:31:33.879172Z",
     "shell.execute_reply.started": "2025-04-18T10:31:29.132182Z"
    },
    "id": "sJiYaUXx3Deb",
    "trusted": true
   },
   "outputs": [],
   "source": [
    "import torch\n",
    "import torch.nn as nn\n",
    "\n",
    "import matplotlib.pyplot as plt\n",
    "from tqdm.auto import tqdm"
   ]
  },
  {
   "cell_type": "code",
   "execution_count": null,
   "id": "1u12o4dq4Rb3",
   "metadata": {
    "id": "1u12o4dq4Rb3",
    "trusted": true
   },
   "outputs": [],
   "source": []
  },
  {
   "cell_type": "code",
   "execution_count": null,
   "id": "sV8vmEDV3Dhk",
   "metadata": {
    "execution": {
     "iopub.execute_input": "2025-04-18T10:31:33.881372Z",
     "iopub.status.busy": "2025-04-18T10:31:33.881098Z",
     "iopub.status.idle": "2025-04-18T10:31:58.612042Z",
     "shell.execute_reply": "2025-04-18T10:31:58.611422Z",
     "shell.execute_reply.started": "2025-04-18T10:31:33.881355Z"
    },
    "id": "sV8vmEDV3Dhk",
    "trusted": true
   },
   "outputs": [],
   "source": [
    "delimiter = '|'\n",
    "\n",
    "words = []\n",
    "speech = []\n",
    "\n",
    "start = '<beg>'\n",
    "end = '<end>'\n",
    "\n",
    "idx_w = []\n",
    "idx_s = []\n",
    "\n",
    "\n",
    "\n",
    "with open('/kaggle/input/lab10-nlp/pos_data.txt', 'r') as f:\n",
    "    f = f.readlines()\n",
    "    for row in f:\n",
    "        row = row.split()\n",
    "        #print(row)\n",
    "        if row:\n",
    "            if len(row) == 2:\n",
    "                continue\n",
    "            elif len(row) > 3:  # '8\tсаудовскую аравию\tNOUN|Case=Acc|Gender=Fem|Number=Sing'\n",
    "                row = [row[0], row[1:-1], row[-1]]\n",
    "            if row[1] == start:\n",
    "                idx_w = [row[1]]\n",
    "                idx_s = [row[1]]\n",
    "            elif row[1] == end:\n",
    "                idx_w += [row[1]]\n",
    "                words.append(idx_w)\n",
    "\n",
    "                idx_s += [row[1]]\n",
    "                speech.append(idx_s)\n",
    "            else:\n",
    "                if type(row[1]) != list:\n",
    "                    idx_w += [row[1]]\n",
    "                    idx_s +=[row[2].split(delimiter)[0]]\n",
    "                else:\n",
    "                    idx_w += [*row[1]]\n",
    "                    idx_s +=[row[2].split(delimiter)[0]]* len(row[1])\n",
    "\n"
   ]
  },
  {
   "cell_type": "code",
   "execution_count": null,
   "id": "fp7nThhKEyuM",
   "metadata": {
    "colab": {
     "base_uri": "https://localhost:8080/"
    },
    "execution": {
     "iopub.execute_input": "2025-04-18T10:31:58.613065Z",
     "iopub.status.busy": "2025-04-18T10:31:58.612789Z",
     "iopub.status.idle": "2025-04-18T10:31:58.619110Z",
     "shell.execute_reply": "2025-04-18T10:31:58.618229Z",
     "shell.execute_reply.started": "2025-04-18T10:31:58.613042Z"
    },
    "id": "fp7nThhKEyuM",
    "outputId": "66258d12-af61-4245-b342-326b5131e254",
    "trusted": true
   },
   "outputs": [
    {
     "data": {
      "text/plain": [
       "[1, 2, 3, 'a', 'a', 'a']"
      ]
     },
     "execution_count": 3,
     "metadata": {},
     "output_type": "execute_result"
    }
   ],
   "source": [
    "a = [1, 2, 3]\n",
    "a += ['a']*len(a)\n",
    "a"
   ]
  },
  {
   "cell_type": "code",
   "execution_count": null,
   "id": "2VZPvPp23Dj-",
   "metadata": {
    "colab": {
     "base_uri": "https://localhost:8080/"
    },
    "execution": {
     "iopub.execute_input": "2025-04-18T10:31:58.621120Z",
     "iopub.status.busy": "2025-04-18T10:31:58.620892Z",
     "iopub.status.idle": "2025-04-18T10:31:58.635808Z",
     "shell.execute_reply": "2025-04-18T10:31:58.635139Z",
     "shell.execute_reply.started": "2025-04-18T10:31:58.621105Z"
    },
    "id": "2VZPvPp23Dj-",
    "outputId": "51640870-b9d2-425e-cbfb-b47b2ecca421",
    "trusted": true
   },
   "outputs": [
    {
     "data": {
      "text/plain": [
       "(990066, 990066)"
      ]
     },
     "execution_count": 4,
     "metadata": {},
     "output_type": "execute_result"
    }
   ],
   "source": [
    "len(words), len(speech)"
   ]
  },
  {
   "cell_type": "code",
   "execution_count": null,
   "id": "8D1BTPZLB_KB",
   "metadata": {
    "colab": {
     "base_uri": "https://localhost:8080/"
    },
    "execution": {
     "iopub.execute_input": "2025-04-18T10:31:58.636845Z",
     "iopub.status.busy": "2025-04-18T10:31:58.636583Z",
     "iopub.status.idle": "2025-04-18T10:31:58.649631Z",
     "shell.execute_reply": "2025-04-18T10:31:58.649068Z",
     "shell.execute_reply.started": "2025-04-18T10:31:58.636822Z"
    },
    "id": "8D1BTPZLB_KB",
    "outputId": "cdec694f-54fd-4eff-f1b7-40c348540f12",
    "trusted": true
   },
   "outputs": [
    {
     "data": {
      "text/plain": [
       "(['<beg>', 'рой', 'колодец', '<end>'], ['<beg>', 'VERB', 'NOUN', '<end>'])"
      ]
     },
     "execution_count": 5,
     "metadata": {},
     "output_type": "execute_result"
    }
   ],
   "source": [
    "words[0], speech[0]"
   ]
  },
  {
   "cell_type": "code",
   "execution_count": null,
   "id": "ulRbgd9V3DpU",
   "metadata": {
    "execution": {
     "iopub.execute_input": "2025-04-18T10:31:58.650623Z",
     "iopub.status.busy": "2025-04-18T10:31:58.650298Z",
     "iopub.status.idle": "2025-04-18T10:31:58.766273Z",
     "shell.execute_reply": "2025-04-18T10:31:58.765734Z",
     "shell.execute_reply.started": "2025-04-18T10:31:58.650594Z"
    },
    "id": "ulRbgd9V3DpU",
    "trusted": true
   },
   "outputs": [],
   "source": [
    "lens = [len(i) for i in words]"
   ]
  },
  {
   "cell_type": "code",
   "execution_count": null,
   "id": "EEa1whraBgWy",
   "metadata": {
    "colab": {
     "base_uri": "https://localhost:8080/"
    },
    "execution": {
     "iopub.execute_input": "2025-04-18T10:31:58.767156Z",
     "iopub.status.busy": "2025-04-18T10:31:58.766956Z",
     "iopub.status.idle": "2025-04-18T10:31:58.783339Z",
     "shell.execute_reply": "2025-04-18T10:31:58.782746Z",
     "shell.execute_reply.started": "2025-04-18T10:31:58.767140Z"
    },
    "id": "EEa1whraBgWy",
    "outputId": "2b98569c-6120-4431-def2-4277a70c8242",
    "trusted": true
   },
   "outputs": [
    {
     "data": {
      "text/plain": [
       "472"
      ]
     },
     "execution_count": 7,
     "metadata": {},
     "output_type": "execute_result"
    }
   ],
   "source": [
    "max(lens)"
   ]
  },
  {
   "cell_type": "code",
   "execution_count": null,
   "id": "Vxkq_4NcBjaE",
   "metadata": {
    "colab": {
     "base_uri": "https://localhost:8080/"
    },
    "execution": {
     "iopub.execute_input": "2025-04-18T10:31:58.784198Z",
     "iopub.status.busy": "2025-04-18T10:31:58.784005Z",
     "iopub.status.idle": "2025-04-18T10:31:59.065886Z",
     "shell.execute_reply": "2025-04-18T10:31:59.065231Z",
     "shell.execute_reply.started": "2025-04-18T10:31:58.784182Z"
    },
    "id": "Vxkq_4NcBjaE",
    "outputId": "2745a452-5303-4b71-8820-4b170a1554ba",
    "trusted": true
   },
   "outputs": [
    {
     "data": {
      "text/plain": [
       "tensor(12.)"
      ]
     },
     "execution_count": 8,
     "metadata": {},
     "output_type": "execute_result"
    }
   ],
   "source": [
    "q = torch.quantile(torch.tensor(lens, dtype=torch.float32), 0.75)\n",
    "q"
   ]
  },
  {
   "cell_type": "code",
   "execution_count": null,
   "id": "vXsL33suCNoO",
   "metadata": {
    "execution": {
     "iopub.execute_input": "2025-04-18T10:31:59.066796Z",
     "iopub.status.busy": "2025-04-18T10:31:59.066568Z",
     "iopub.status.idle": "2025-04-18T10:31:59.524538Z",
     "shell.execute_reply": "2025-04-18T10:31:59.523754Z",
     "shell.execute_reply.started": "2025-04-18T10:31:59.066780Z"
    },
    "id": "vXsL33suCNoO",
    "trusted": true
   },
   "outputs": [],
   "source": [
    "words = [sent for sent in words if len(sent) <= 12]\n",
    "speech = [sent for sent in speech if len(sent) <= 12]\n"
   ]
  },
  {
   "cell_type": "code",
   "execution_count": null,
   "id": "wnafEH-fCYU8",
   "metadata": {
    "colab": {
     "base_uri": "https://localhost:8080/"
    },
    "execution": {
     "iopub.execute_input": "2025-04-18T10:31:59.527185Z",
     "iopub.status.busy": "2025-04-18T10:31:59.526974Z",
     "iopub.status.idle": "2025-04-18T10:31:59.531774Z",
     "shell.execute_reply": "2025-04-18T10:31:59.531115Z",
     "shell.execute_reply.started": "2025-04-18T10:31:59.527169Z"
    },
    "id": "wnafEH-fCYU8",
    "outputId": "e89ae438-6bdd-476c-84f8-c7180bccd14e",
    "trusted": true
   },
   "outputs": [
    {
     "data": {
      "text/plain": [
       "(771775, 771775)"
      ]
     },
     "execution_count": 10,
     "metadata": {},
     "output_type": "execute_result"
    }
   ],
   "source": [
    "len(words), len(speech)"
   ]
  },
  {
   "cell_type": "markdown",
   "id": "56019a79",
   "metadata": {
    "id": "56019a79"
   },
   "source": [
    "<p class=\"task\" id=\"2\"></p>\n",
    "\n",
    "2\\. Разделите данные на обучающую и тестовую выборку. Создайте два Vocab на основе загруженных данных: `vocab_X` для слов и `vocab_y` для частей речи. Добавьте в словари специальные токены `<PAD>`, `<UNK>`, `<beg>`, `<end>`. Выведите на экран количество токенов в полученных словарях.\n",
    "\n",
    "- [ ] Проверено на семинаре"
   ]
  },
  {
   "cell_type": "code",
   "execution_count": null,
   "id": "pnGNy8OKCgsn",
   "metadata": {
    "execution": {
     "iopub.execute_input": "2025-04-18T10:31:59.532749Z",
     "iopub.status.busy": "2025-04-18T10:31:59.532468Z",
     "iopub.status.idle": "2025-04-18T10:32:01.044047Z",
     "shell.execute_reply": "2025-04-18T10:32:01.043290Z",
     "shell.execute_reply.started": "2025-04-18T10:31:59.532725Z"
    },
    "id": "pnGNy8OKCgsn",
    "trusted": true
   },
   "outputs": [],
   "source": [
    "from sklearn.model_selection import train_test_split"
   ]
  },
  {
   "cell_type": "code",
   "execution_count": null,
   "id": "uiWjF-xVC_L6",
   "metadata": {
    "execution": {
     "iopub.execute_input": "2025-04-18T10:32:01.045115Z",
     "iopub.status.busy": "2025-04-18T10:32:01.044818Z",
     "iopub.status.idle": "2025-04-18T10:32:01.508459Z",
     "shell.execute_reply": "2025-04-18T10:32:01.507922Z",
     "shell.execute_reply.started": "2025-04-18T10:32:01.045098Z"
    },
    "id": "uiWjF-xVC_L6",
    "trusted": true
   },
   "outputs": [],
   "source": [
    "X_train, X_test, y_train, y_test = train_test_split(words, speech, train_size=0.8)"
   ]
  },
  {
   "cell_type": "code",
   "execution_count": null,
   "id": "eyvhYTrZCgp_",
   "metadata": {
    "execution": {
     "iopub.execute_input": "2025-04-18T10:32:01.509463Z",
     "iopub.status.busy": "2025-04-18T10:32:01.509200Z",
     "iopub.status.idle": "2025-04-18T10:32:01.512914Z",
     "shell.execute_reply": "2025-04-18T10:32:01.512191Z",
     "shell.execute_reply.started": "2025-04-18T10:32:01.509441Z"
    },
    "id": "eyvhYTrZCgp_",
    "trusted": true
   },
   "outputs": [],
   "source": [
    "special = '<PAD>, <UNK>, <beg>, <end>'"
   ]
  },
  {
   "cell_type": "code",
   "execution_count": null,
   "id": "Z4l-q_lpCgn2",
   "metadata": {
    "execution": {
     "iopub.execute_input": "2025-04-18T10:32:01.513818Z",
     "iopub.status.busy": "2025-04-18T10:32:01.513622Z",
     "iopub.status.idle": "2025-04-18T10:32:01.530134Z",
     "shell.execute_reply": "2025-04-18T10:32:01.529445Z",
     "shell.execute_reply.started": "2025-04-18T10:32:01.513803Z"
    },
    "id": "Z4l-q_lpCgn2",
    "trusted": true
   },
   "outputs": [],
   "source": [
    "vocab_X = dict()\n",
    "vocab_y = dict()"
   ]
  },
  {
   "cell_type": "code",
   "execution_count": null,
   "id": "smk1GyYDCgkX",
   "metadata": {
    "execution": {
     "iopub.execute_input": "2025-04-18T10:32:01.531369Z",
     "iopub.status.busy": "2025-04-18T10:32:01.530861Z",
     "iopub.status.idle": "2025-04-18T10:32:01.544817Z",
     "shell.execute_reply": "2025-04-18T10:32:01.544208Z",
     "shell.execute_reply.started": "2025-04-18T10:32:01.531349Z"
    },
    "id": "smk1GyYDCgkX",
    "trusted": true
   },
   "outputs": [],
   "source": [
    "for idx, x in enumerate(special.split(', ')):\n",
    "    vocab_X[x] = idx\n",
    "    vocab_y[x] = idx\n"
   ]
  },
  {
   "cell_type": "code",
   "execution_count": null,
   "id": "SaLWPlJxEHVG",
   "metadata": {
    "colab": {
     "base_uri": "https://localhost:8080/"
    },
    "execution": {
     "iopub.execute_input": "2025-04-18T10:32:01.545701Z",
     "iopub.status.busy": "2025-04-18T10:32:01.545519Z",
     "iopub.status.idle": "2025-04-18T10:32:01.560762Z",
     "shell.execute_reply": "2025-04-18T10:32:01.560256Z",
     "shell.execute_reply.started": "2025-04-18T10:32:01.545687Z"
    },
    "id": "SaLWPlJxEHVG",
    "outputId": "e03e56e7-dcc9-4713-dac7-2b0eba8593d8",
    "trusted": true
   },
   "outputs": [
    {
     "data": {
      "text/plain": [
       "({'<PAD>': 0, '<UNK>': 1, '<beg>': 2, '<end>': 3}, 4)"
      ]
     },
     "execution_count": 16,
     "metadata": {},
     "output_type": "execute_result"
    }
   ],
   "source": [
    "vocab_X, len(vocab_X)"
   ]
  },
  {
   "cell_type": "code",
   "execution_count": null,
   "id": "9Jho70NcD6w9",
   "metadata": {
    "colab": {
     "base_uri": "https://localhost:8080/"
    },
    "execution": {
     "iopub.execute_input": "2025-04-18T10:32:01.561587Z",
     "iopub.status.busy": "2025-04-18T10:32:01.561386Z",
     "iopub.status.idle": "2025-04-18T10:32:01.574818Z",
     "shell.execute_reply": "2025-04-18T10:32:01.574221Z",
     "shell.execute_reply.started": "2025-04-18T10:32:01.561565Z"
    },
    "id": "9Jho70NcD6w9",
    "outputId": "6332e90c-29ae-4463-e430-96108beada1e",
    "trusted": true
   },
   "outputs": [
    {
     "data": {
      "text/plain": [
       "[2, 3, 4]"
      ]
     },
     "execution_count": 17,
     "metadata": {},
     "output_type": "execute_result"
    }
   ],
   "source": [
    "[1, 2, 3, 4, 5][1:-1]"
   ]
  },
  {
   "cell_type": "code",
   "execution_count": null,
   "id": "3_I6w_tbDyV2",
   "metadata": {
    "execution": {
     "iopub.execute_input": "2025-04-18T10:32:01.575750Z",
     "iopub.status.busy": "2025-04-18T10:32:01.575513Z",
     "iopub.status.idle": "2025-04-18T10:32:03.402799Z",
     "shell.execute_reply": "2025-04-18T10:32:03.402211Z",
     "shell.execute_reply.started": "2025-04-18T10:32:01.575727Z"
    },
    "id": "3_I6w_tbDyV2",
    "trusted": true
   },
   "outputs": [],
   "source": [
    "for sent in X_train:\n",
    "    for word in sent[1:-1]:\n",
    "        vocab_X[word] = vocab_X.get(word, len(vocab_X))"
   ]
  },
  {
   "cell_type": "code",
   "execution_count": null,
   "id": "mmZJ-9-7EUu5",
   "metadata": {
    "colab": {
     "base_uri": "https://localhost:8080/"
    },
    "execution": {
     "iopub.execute_input": "2025-04-18T10:32:03.403739Z",
     "iopub.status.busy": "2025-04-18T10:32:03.403481Z",
     "iopub.status.idle": "2025-04-18T10:32:03.408203Z",
     "shell.execute_reply": "2025-04-18T10:32:03.407674Z",
     "shell.execute_reply.started": "2025-04-18T10:32:03.403701Z"
    },
    "id": "mmZJ-9-7EUu5",
    "outputId": "4dd29b8d-bc9f-483d-d8f2-0014fe36b254",
    "trusted": true
   },
   "outputs": [
    {
     "data": {
      "text/plain": [
       "210458"
      ]
     },
     "execution_count": 19,
     "metadata": {},
     "output_type": "execute_result"
    }
   ],
   "source": [
    "len(vocab_X)"
   ]
  },
  {
   "cell_type": "code",
   "execution_count": null,
   "id": "IUoHijmdEPSt",
   "metadata": {
    "execution": {
     "iopub.execute_input": "2025-04-18T10:32:03.408987Z",
     "iopub.status.busy": "2025-04-18T10:32:03.408833Z",
     "iopub.status.idle": "2025-04-18T10:32:04.702652Z",
     "shell.execute_reply": "2025-04-18T10:32:04.702079Z",
     "shell.execute_reply.started": "2025-04-18T10:32:03.408974Z"
    },
    "id": "IUoHijmdEPSt",
    "trusted": true
   },
   "outputs": [],
   "source": [
    "for sent in y_train:\n",
    "    for word in sent[1:-1]:\n",
    "        vocab_y[word] = vocab_y.get(word, len(vocab_y))"
   ]
  },
  {
   "cell_type": "code",
   "execution_count": null,
   "id": "zori426wEaMW",
   "metadata": {
    "colab": {
     "base_uri": "https://localhost:8080/"
    },
    "execution": {
     "iopub.execute_input": "2025-04-18T10:32:04.703509Z",
     "iopub.status.busy": "2025-04-18T10:32:04.703329Z",
     "iopub.status.idle": "2025-04-18T10:32:04.708208Z",
     "shell.execute_reply": "2025-04-18T10:32:04.707587Z",
     "shell.execute_reply.started": "2025-04-18T10:32:04.703496Z"
    },
    "id": "zori426wEaMW",
    "outputId": "beea77ff-5d06-4f62-e2ab-07181ac935a5",
    "trusted": true
   },
   "outputs": [
    {
     "data": {
      "text/plain": [
       "20"
      ]
     },
     "execution_count": 21,
     "metadata": {},
     "output_type": "execute_result"
    }
   ],
   "source": [
    "len(vocab_y)"
   ]
  },
  {
   "cell_type": "code",
   "execution_count": null,
   "id": "CIKQMqf1EcWd",
   "metadata": {
    "colab": {
     "base_uri": "https://localhost:8080/"
    },
    "execution": {
     "iopub.execute_input": "2025-04-18T10:32:04.709081Z",
     "iopub.status.busy": "2025-04-18T10:32:04.708883Z",
     "iopub.status.idle": "2025-04-18T10:32:04.722626Z",
     "shell.execute_reply": "2025-04-18T10:32:04.721966Z",
     "shell.execute_reply.started": "2025-04-18T10:32:04.709068Z"
    },
    "id": "CIKQMqf1EcWd",
    "outputId": "6e17d2c4-9301-4909-f094-b3ca60549c63",
    "trusted": true
   },
   "outputs": [
    {
     "data": {
      "text/plain": [
       "{'<PAD>': 0,\n",
       " '<UNK>': 1,\n",
       " '<beg>': 2,\n",
       " '<end>': 3,\n",
       " 'ADV': 4,\n",
       " 'ADJ': 5,\n",
       " 'VERB': 6,\n",
       " 'NOUN': 7,\n",
       " 'PUNCT': 8,\n",
       " 'PRON': 9,\n",
       " 'CONJ': 10,\n",
       " 'ADP': 11,\n",
       " 'PART': 12,\n",
       " 'X': 13,\n",
       " 'NUM': 14,\n",
       " 'LATN': 15,\n",
       " 'H': 16,\n",
       " 'SYM': 17,\n",
       " 'INTJ': 18,\n",
       " 'DET': 19}"
      ]
     },
     "execution_count": 22,
     "metadata": {},
     "output_type": "execute_result"
    }
   ],
   "source": [
    "vocab_y"
   ]
  },
  {
   "cell_type": "markdown",
   "id": "f3a833bb",
   "metadata": {
    "id": "f3a833bb"
   },
   "source": [
    "<p class=\"task\" id=\"3\"></p>\n",
    "\n",
    "3\\. Создайте класс `POSTaggingDataset`. Реализуйте `__getitem__` таким образом, чтобы он возвращал кортеж `(x, y)`, где x - это набор индексов токенов для предложений на русском языке, а `y` - набор индексов токенов для соответствующих частей речи. Используя преобразования, сделайте длины наборов индексов одинаковой фиксированной длины. Создайте два датасета: для обучающей и тестовой выборки.\n",
    "\n",
    "Выведите на экран формы тензоров `x` и `y`:\n",
    "\n",
    "```python\n",
    "x, y = train_dset[:5]\n",
    "print(x.shape, y.shape)\n",
    "```\n",
    "\n",
    "\n",
    "\n",
    "- [ ] Проверено на семинаре"
   ]
  },
  {
   "cell_type": "code",
   "execution_count": null,
   "id": "jfiKCcM_K0zA",
   "metadata": {
    "colab": {
     "base_uri": "https://localhost:8080/"
    },
    "execution": {
     "iopub.execute_input": "2025-04-18T10:32:04.724152Z",
     "iopub.status.busy": "2025-04-18T10:32:04.723461Z",
     "iopub.status.idle": "2025-04-18T10:32:04.736181Z",
     "shell.execute_reply": "2025-04-18T10:32:04.735488Z",
     "shell.execute_reply.started": "2025-04-18T10:32:04.724131Z"
    },
    "id": "jfiKCcM_K0zA",
    "outputId": "7d137089-1472-43ee-cea4-efd332019232",
    "trusted": true
   },
   "outputs": [
    {
     "data": {
      "text/plain": [
       "116"
      ]
     },
     "execution_count": 23,
     "metadata": {},
     "output_type": "execute_result"
    }
   ],
   "source": [
    "vocab_X.get('мама', 1)"
   ]
  },
  {
   "cell_type": "code",
   "execution_count": null,
   "id": "W86vn4LdIdlu",
   "metadata": {
    "execution": {
     "iopub.execute_input": "2025-04-18T10:32:04.737104Z",
     "iopub.status.busy": "2025-04-18T10:32:04.736908Z",
     "iopub.status.idle": "2025-04-18T10:32:04.832526Z",
     "shell.execute_reply": "2025-04-18T10:32:04.831696Z",
     "shell.execute_reply.started": "2025-04-18T10:32:04.737083Z"
    },
    "id": "W86vn4LdIdlu",
    "trusted": true
   },
   "outputs": [],
   "source": [
    "from torch.utils.data import Dataset\n",
    "\n",
    "\n",
    "class POSTaggingDataset(Dataset):\n",
    "    def __init__(self, vocab_X, vocab_y, X, y, max_len):\n",
    "        self.X = []\n",
    "        for sent in X:\n",
    "            tokens = [vocab_X.get(i, 1) for i in sent]   # vocab_X.get(i, 1), 1 = unk\n",
    "            if len(tokens) < max_len:\n",
    "                tokens += [0] * (max_len - len(tokens))  # 0 = pad\n",
    "            self.X.append(tokens)\n",
    "\n",
    "        self.y = []\n",
    "        for sent in y:\n",
    "            tokens = [vocab_y.get(i, 1) for i in sent]   # vocab_y.get(i, 1), 1 = unk\n",
    "            if len(tokens) < max_len:\n",
    "                tokens += [0] * (max_len - len(tokens))  # 0 = pad\n",
    "            self.y.append(tokens)\n",
    "\n",
    "    def __len__(self):\n",
    "        return len(self.X)\n",
    "\n",
    "\n",
    "    def __getitem__(self, idx):\n",
    "        return torch.tensor(self.X[idx], dtype=torch.long), torch.tensor(self.y[idx], dtype=torch.long)\n"
   ]
  },
  {
   "cell_type": "code",
   "execution_count": null,
   "id": "Aetd63VfMall",
   "metadata": {
    "colab": {
     "base_uri": "https://localhost:8080/"
    },
    "execution": {
     "iopub.execute_input": "2025-04-18T10:32:04.833541Z",
     "iopub.status.busy": "2025-04-18T10:32:04.833309Z",
     "iopub.status.idle": "2025-04-18T10:32:04.943875Z",
     "shell.execute_reply": "2025-04-18T10:32:04.943319Z",
     "shell.execute_reply.started": "2025-04-18T10:32:04.833518Z"
    },
    "id": "Aetd63VfMall",
    "outputId": "e466a2b7-9f04-451a-bd26-b20828e318c7",
    "trusted": true
   },
   "outputs": [
    {
     "data": {
      "text/plain": [
       "12"
      ]
     },
     "execution_count": 25,
     "metadata": {},
     "output_type": "execute_result"
    }
   ],
   "source": [
    "lens = [len(i) for i in X_train]\n",
    "max(lens)"
   ]
  },
  {
   "cell_type": "code",
   "execution_count": null,
   "id": "J7uERgeVIhkZ",
   "metadata": {
    "execution": {
     "iopub.execute_input": "2025-04-18T10:32:04.944826Z",
     "iopub.status.busy": "2025-04-18T10:32:04.944559Z",
     "iopub.status.idle": "2025-04-18T10:32:13.644737Z",
     "shell.execute_reply": "2025-04-18T10:32:13.643942Z",
     "shell.execute_reply.started": "2025-04-18T10:32:04.944808Z"
    },
    "id": "J7uERgeVIhkZ",
    "trusted": true
   },
   "outputs": [],
   "source": [
    "train_dataset = POSTaggingDataset(vocab_X=vocab_X, vocab_y=vocab_y, X=X_train, y=y_train, max_len=12)\n",
    "test_dataset = POSTaggingDataset(vocab_X=vocab_X, vocab_y=vocab_y, X=X_test, y=y_test, max_len=12)"
   ]
  },
  {
   "cell_type": "code",
   "execution_count": null,
   "id": "l-QTg1KzIhhE",
   "metadata": {
    "colab": {
     "base_uri": "https://localhost:8080/"
    },
    "execution": {
     "iopub.execute_input": "2025-04-18T10:32:13.645807Z",
     "iopub.status.busy": "2025-04-18T10:32:13.645534Z",
     "iopub.status.idle": "2025-04-18T10:32:13.650548Z",
     "shell.execute_reply": "2025-04-18T10:32:13.650003Z",
     "shell.execute_reply.started": "2025-04-18T10:32:13.645785Z"
    },
    "id": "l-QTg1KzIhhE",
    "outputId": "12837dd2-4737-4b94-e572-d8a0d9a8b45a",
    "trusted": true
   },
   "outputs": [
    {
     "name": "stdout",
     "output_type": "stream",
     "text": [
      "torch.Size([5, 12]) torch.Size([5, 12])\n"
     ]
    }
   ],
   "source": [
    "x, y = train_dataset[:5]\n",
    "print(x.shape, y.shape)"
   ]
  },
  {
   "cell_type": "code",
   "execution_count": null,
   "id": "PfjdfhPGOKFN",
   "metadata": {
    "colab": {
     "base_uri": "https://localhost:8080/"
    },
    "execution": {
     "iopub.execute_input": "2025-04-18T10:32:13.654022Z",
     "iopub.status.busy": "2025-04-18T10:32:13.653817Z",
     "iopub.status.idle": "2025-04-18T10:32:13.666447Z",
     "shell.execute_reply": "2025-04-18T10:32:13.665843Z",
     "shell.execute_reply.started": "2025-04-18T10:32:13.654008Z"
    },
    "id": "PfjdfhPGOKFN",
    "outputId": "5ccee5fa-e431-4d15-93b3-a16d0b8dfc61",
    "trusted": true
   },
   "outputs": [
    {
     "data": {
      "text/plain": [
       "tensor([[ 2,  4,  5,  6,  7,  3,  0,  0,  0,  0,  0,  0],\n",
       "        [ 2,  8,  9, 10, 11,  3,  0,  0,  0,  0,  0,  0],\n",
       "        [ 2, 12, 13, 11,  3,  0,  0,  0,  0,  0,  0,  0],\n",
       "        [ 2, 14, 15, 16, 17, 18,  3,  0,  0,  0,  0,  0],\n",
       "        [ 2, 12, 19, 20, 21, 22,  3,  0,  0,  0,  0,  0]])"
      ]
     },
     "execution_count": 28,
     "metadata": {},
     "output_type": "execute_result"
    }
   ],
   "source": [
    "x"
   ]
  },
  {
   "cell_type": "code",
   "execution_count": null,
   "id": "64SRoWw-Ihe1",
   "metadata": {
    "colab": {
     "base_uri": "https://localhost:8080/"
    },
    "execution": {
     "iopub.execute_input": "2025-04-18T10:32:13.667776Z",
     "iopub.status.busy": "2025-04-18T10:32:13.667142Z",
     "iopub.status.idle": "2025-04-18T10:32:13.678461Z",
     "shell.execute_reply": "2025-04-18T10:32:13.677875Z",
     "shell.execute_reply.started": "2025-04-18T10:32:13.667755Z"
    },
    "id": "64SRoWw-Ihe1",
    "outputId": "7040ceb5-5db6-44e1-a00e-946731617dc6",
    "trusted": true
   },
   "outputs": [
    {
     "data": {
      "text/plain": [
       "tensor([[ 2,  4,  5,  6,  4,  3,  0,  0,  0,  0,  0,  0],\n",
       "        [ 2,  5,  7,  6,  8,  3,  0,  0,  0,  0,  0,  0],\n",
       "        [ 2,  9,  6,  8,  3,  0,  0,  0,  0,  0,  0,  0],\n",
       "        [ 2, 10,  9,  6,  9,  4,  3,  0,  0,  0,  0,  0],\n",
       "        [ 2,  9,  6, 11,  9,  7,  3,  0,  0,  0,  0,  0]])"
      ]
     },
     "execution_count": 29,
     "metadata": {},
     "output_type": "execute_result"
    }
   ],
   "source": [
    "y"
   ]
  },
  {
   "cell_type": "code",
   "execution_count": null,
   "id": "8xbxbpB9IhcV",
   "metadata": {
    "id": "8xbxbpB9IhcV",
    "trusted": true
   },
   "outputs": [],
   "source": []
  },
  {
   "cell_type": "code",
   "execution_count": null,
   "id": "VDGADzr9IhaG",
   "metadata": {
    "id": "VDGADzr9IhaG",
    "trusted": true
   },
   "outputs": [],
   "source": []
  },
  {
   "cell_type": "markdown",
   "id": "87bdd1f2",
   "metadata": {
    "id": "87bdd1f2"
   },
   "source": [
    "<p class=\"task\" id=\"4\"></p>\n",
    "\n",
    "4\\. Создайте и обучите модель для предсказания частей речи. Игнорируйте токен `<PAD>` при расчете ошибки. Во время обучения выводите на экран значения функции потерь для эпохи, значение accuracy для эпохи.\n",
    "\n",
    "<img src=\"data:image/png;base64,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\">\n",
    "\n",
    "- [ ] Проверено на семинаре"
   ]
  },
  {
   "cell_type": "code",
   "execution_count": null,
   "id": "kiG1TajRTfPK",
   "metadata": {
    "execution": {
     "iopub.execute_input": "2025-04-18T10:32:13.679267Z",
     "iopub.status.busy": "2025-04-18T10:32:13.679105Z",
     "iopub.status.idle": "2025-04-18T10:32:13.740597Z",
     "shell.execute_reply": "2025-04-18T10:32:13.740060Z",
     "shell.execute_reply.started": "2025-04-18T10:32:13.679254Z"
    },
    "id": "kiG1TajRTfPK",
    "trusted": true
   },
   "outputs": [],
   "source": [
    "import torch.optim as optim\n",
    "from torch.utils.data import DataLoader\n",
    "from sklearn.metrics import accuracy_score\n",
    "import torch.nn.functional as F\n",
    "\n",
    "device = torch.device(\"cuda\" if torch.cuda.is_available() else \"cpu\")"
   ]
  },
  {
   "cell_type": "code",
   "execution_count": null,
   "id": "FYou16ENO_ky",
   "metadata": {
    "execution": {
     "iopub.execute_input": "2025-04-18T10:32:13.741820Z",
     "iopub.status.busy": "2025-04-18T10:32:13.741595Z",
     "iopub.status.idle": "2025-04-18T10:32:13.755148Z",
     "shell.execute_reply": "2025-04-18T10:32:13.754425Z",
     "shell.execute_reply.started": "2025-04-18T10:32:13.741805Z"
    },
    "id": "FYou16ENO_ky",
    "trusted": true
   },
   "outputs": [],
   "source": [
    "class POSTaggingModel(nn.Module):\n",
    "    def __init__(self, vocab_size, embed_dim, hidden_size, num_classes, pad_idx=0):\n",
    "        super().__init__()\n",
    "\n",
    "        self.embedding = nn.Embedding(vocab_size, embed_dim, padding_idx=pad_idx)\n",
    "\n",
    "        self.rnn = nn.LSTM(input_size=embed_dim, hidden_size=hidden_size, batch_first=True)\n",
    "\n",
    "        self.fc1 = nn.Linear(hidden_size, 128)\n",
    "        self.fc2 = nn.Linear(128, 32)\n",
    "        self.fc3 = nn.Linear(32, num_classes)\n",
    "\n",
    "\n",
    "    def forward(self, x):\n",
    "        embedded = self.embedding(x)\n",
    "        outputs, (h, c) = self.rnn(embedded)\n",
    "        logits = self.fc3(F.relu(self.fc2(F.relu(self.fc1(outputs))))) # вводим o потому что нужны токены каждого слова\n",
    "        return logits"
   ]
  },
  {
   "cell_type": "code",
   "execution_count": null,
   "id": "9K5K0EXHO_iq",
   "metadata": {
    "execution": {
     "iopub.execute_input": "2025-04-18T10:32:13.756080Z",
     "iopub.status.busy": "2025-04-18T10:32:13.755869Z",
     "iopub.status.idle": "2025-04-18T10:32:13.769964Z",
     "shell.execute_reply": "2025-04-18T10:32:13.769270Z",
     "shell.execute_reply.started": "2025-04-18T10:32:13.756057Z"
    },
    "id": "9K5K0EXHO_iq",
    "trusted": true
   },
   "outputs": [],
   "source": [
    "vocab_size = len(vocab_X)\n",
    "embed_dim = 200\n",
    "hidden_size = 256"
   ]
  },
  {
   "cell_type": "code",
   "execution_count": null,
   "id": "J6Zs2OmUO_gY",
   "metadata": {
    "execution": {
     "iopub.execute_input": "2025-04-18T10:42:28.057178Z",
     "iopub.status.busy": "2025-04-18T10:42:28.056474Z",
     "iopub.status.idle": "2025-04-18T10:42:28.499004Z",
     "shell.execute_reply": "2025-04-18T10:42:28.498406Z",
     "shell.execute_reply.started": "2025-04-18T10:42:28.057155Z"
    },
    "id": "J6Zs2OmUO_gY",
    "trusted": true
   },
   "outputs": [],
   "source": [
    "model = POSTaggingModel(vocab_size, embed_dim, hidden_size, len(vocab_y))\n",
    "model = model.to(device)"
   ]
  },
  {
   "cell_type": "code",
   "execution_count": null,
   "id": "0atRirmqO_eA",
   "metadata": {
    "execution": {
     "iopub.execute_input": "2025-04-18T10:42:29.286417Z",
     "iopub.status.busy": "2025-04-18T10:42:29.285756Z",
     "iopub.status.idle": "2025-04-18T10:42:29.290017Z",
     "shell.execute_reply": "2025-04-18T10:42:29.289205Z",
     "shell.execute_reply.started": "2025-04-18T10:42:29.286398Z"
    },
    "id": "0atRirmqO_eA",
    "trusted": true
   },
   "outputs": [],
   "source": [
    "train_loader = DataLoader(train_dataset, batch_size=64, shuffle=True)\n",
    "test_loader = DataLoader(test_dataset, batch_size=64)"
   ]
  },
  {
   "cell_type": "code",
   "execution_count": null,
   "id": "3kFoSmwlUkZB",
   "metadata": {
    "execution": {
     "iopub.execute_input": "2025-04-18T10:42:30.045257Z",
     "iopub.status.busy": "2025-04-18T10:42:30.044462Z",
     "iopub.status.idle": "2025-04-18T10:42:30.049738Z",
     "shell.execute_reply": "2025-04-18T10:42:30.048942Z",
     "shell.execute_reply.started": "2025-04-18T10:42:30.045224Z"
    },
    "id": "3kFoSmwlUkZB",
    "trusted": true
   },
   "outputs": [],
   "source": [
    "criterion = nn.CrossEntropyLoss(ignore_index=0)\n",
    "optimizer = optim.AdamW(model.parameters(), lr=0.001)"
   ]
  },
  {
   "cell_type": "code",
   "execution_count": null,
   "id": "RUw2BzjUUkR4",
   "metadata": {
    "execution": {
     "iopub.execute_input": "2025-04-18T10:42:30.827881Z",
     "iopub.status.busy": "2025-04-18T10:42:30.827186Z",
     "iopub.status.idle": "2025-04-18T10:42:30.831189Z",
     "shell.execute_reply": "2025-04-18T10:42:30.830428Z",
     "shell.execute_reply.started": "2025-04-18T10:42:30.827858Z"
    },
    "id": "RUw2BzjUUkR4",
    "trusted": true
   },
   "outputs": [],
   "source": [
    "from tqdm.auto import tqdm"
   ]
  },
  {
   "cell_type": "code",
   "execution_count": null,
   "id": "jIakphGqUkPV",
   "metadata": {
    "colab": {
     "base_uri": "https://localhost:8080/",
     "height": 290,
     "referenced_widgets": [
      "1289e19ba8cf4583bd7104c6d2410aab",
      "ed8eb679d33d4ec2b7e29a9093e0029f",
      "5105f21345d94edfb00464797bacef50",
      "f2b4f6de8a104485b1b1400d1b9d0b3e",
      "d07836f111cd4fdfb44a3e0a7b79f62f",
      "aac92966c622478c98a46db2a1acbc76",
      "108675b79b864d8dadd06500aee571b2",
      "fa09bbeeee9d4d59be22abdeda54a414",
      "cb09f1f1c3a248228fdf5aa0646347b5",
      "cf77ae0feabe4421a454e12a3219f3a5",
      "f5c0999927c24b0e975d08a3eede75cc",
      "",
      "249d2b3b79e443ff881ad62513b84c49"
     ]
    },
    "execution": {
     "iopub.execute_input": "2025-04-18T10:49:49.868845Z",
     "iopub.status.busy": "2025-04-18T10:49:49.868146Z"
    },
    "id": "jIakphGqUkPV",
    "outputId": "028339e9-3d4f-4b18-af7a-b60e5e6f8e28",
    "trusted": true
   },
   "outputs": [
    {
     "data": {
      "application/vnd.jupyter.widget-view+json": {
       "model_id": "",
       "version_major": 2,
       "version_minor": 0
      },
      "text/plain": [
       "Epoch 1/10:   0%|          | 0/9648 [00:00<?, ?it/s]"
      ]
     },
     "metadata": {},
     "output_type": "display_data"
    },
    {
     "name": "stdout",
     "output_type": "stream",
     "text": [
      "Epoch 1/10 | Loss: 0.0979 | Acc Train: 0.9665 | Acc Test: 0.9654\n"
     ]
    },
    {
     "data": {
      "application/vnd.jupyter.widget-view+json": {
       "model_id": "",
       "version_major": 2,
       "version_minor": 0
      },
      "text/plain": [
       "Epoch 2/10:   0%|          | 0/9648 [00:00<?, ?it/s]"
      ]
     },
     "metadata": {},
     "output_type": "display_data"
    },
    {
     "name": "stdout",
     "output_type": "stream",
     "text": [
      "Epoch 2/10 | Loss: 0.0744 | Acc Train: 0.9748 | Acc Test: 0.9676\n"
     ]
    },
    {
     "data": {
      "application/vnd.jupyter.widget-view+json": {
       "model_id": "",
       "version_major": 2,
       "version_minor": 0
      },
      "text/plain": [
       "Epoch 3/10:   0%|          | 0/9648 [00:00<?, ?it/s]"
      ]
     },
     "metadata": {},
     "output_type": "display_data"
    },
    {
     "name": "stdout",
     "output_type": "stream",
     "text": [
      "Epoch 3/10 | Loss: 0.0631 | Acc Train: 0.9787 | Acc Test: 0.9698\n"
     ]
    },
    {
     "data": {
      "application/vnd.jupyter.widget-view+json": {
       "model_id": "",
       "version_major": 2,
       "version_minor": 0
      },
      "text/plain": [
       "Epoch 4/10:   0%|          | 0/9648 [00:00<?, ?it/s]"
      ]
     },
     "metadata": {},
     "output_type": "display_data"
    },
    {
     "name": "stdout",
     "output_type": "stream",
     "text": [
      "Epoch 4/10 | Loss: 0.0566 | Acc Train: 0.9808 | Acc Test: 0.9692\n"
     ]
    },
    {
     "data": {
      "application/vnd.jupyter.widget-view+json": {
       "model_id": "",
       "version_major": 2,
       "version_minor": 0
      },
      "text/plain": [
       "Epoch 5/10:   0%|          | 0/9648 [00:00<?, ?it/s]"
      ]
     },
     "metadata": {},
     "output_type": "display_data"
    },
    {
     "name": "stdout",
     "output_type": "stream",
     "text": [
      "Epoch 5/10 | Loss: 0.0526 | Acc Train: 0.9820 | Acc Test: 0.9713\n"
     ]
    },
    {
     "data": {
      "application/vnd.jupyter.widget-view+json": {
       "model_id": "",
       "version_major": 2,
       "version_minor": 0
      },
      "text/plain": [
       "Epoch 6/10:   0%|          | 0/9648 [00:00<?, ?it/s]"
      ]
     },
     "metadata": {},
     "output_type": "display_data"
    },
    {
     "name": "stdout",
     "output_type": "stream",
     "text": [
      "Epoch 6/10 | Loss: 0.0502 | Acc Train: 0.9828 | Acc Test: 0.9695\n"
     ]
    },
    {
     "data": {
      "application/vnd.jupyter.widget-view+json": {
       "model_id": "",
       "version_major": 2,
       "version_minor": 0
      },
      "text/plain": [
       "Epoch 7/10:   0%|          | 0/9648 [00:00<?, ?it/s]"
      ]
     },
     "metadata": {},
     "output_type": "display_data"
    },
    {
     "name": "stdout",
     "output_type": "stream",
     "text": [
      "Epoch 7/10 | Loss: 0.0489 | Acc Train: 0.9831 | Acc Test: 0.9715\n"
     ]
    },
    {
     "data": {
      "application/vnd.jupyter.widget-view+json": {
       "model_id": "",
       "version_major": 2,
       "version_minor": 0
      },
      "text/plain": [
       "Epoch 8/10:   0%|          | 0/9648 [00:00<?, ?it/s]"
      ]
     },
     "metadata": {},
     "output_type": "display_data"
    },
    {
     "name": "stdout",
     "output_type": "stream",
     "text": [
      "Epoch 8/10 | Loss: 0.0481 | Acc Train: 0.9833 | Acc Test: 0.9713\n"
     ]
    },
    {
     "data": {
      "application/vnd.jupyter.widget-view+json": {
       "model_id": "249d2b3b79e443ff881ad62513b84c49",
       "version_major": 2,
       "version_minor": 0
      },
      "text/plain": [
       "Epoch 9/10:   0%|          | 0/9648 [00:00<?, ?it/s]"
      ]
     },
     "metadata": {},
     "output_type": "display_data"
    }
   ],
   "source": [
    "train_losses = []\n",
    "train_accuracies, test_accuracies = [], []\n",
    "epochs = 10\n",
    "\n",
    "for epoch in range(epochs):\n",
    "    model.train()\n",
    "    total_loss = 0\n",
    "    all_preds = []\n",
    "    all_labels = []\n",
    "\n",
    "    loop = tqdm(train_loader, desc=f\"Epoch {epoch+1}/{epochs}\", leave=False)\n",
    "    for x_batch, y_batch in loop:\n",
    "        x_batch, y_batch = x_batch.to(device), y_batch.to(device)\n",
    "\n",
    "        optimizer.zero_grad()\n",
    "\n",
    "        logits = model(x_batch)  # [batch, seq_len, num_classes]\n",
    "        loss = criterion(logits.view(-1, logits.shape[-1]), y_batch.view(-1))  # [batch * seq_len, num_classes] vs [batch * seq_len]\n",
    "\n",
    "        loss.backward()\n",
    "        optimizer.step()\n",
    "\n",
    "        total_loss += loss.item()\n",
    "\n",
    "        preds = torch.argmax(logits, dim=-1)  # [batch, seq_len]\n",
    "\n",
    "        mask = y_batch != 0  # паддинг маска\n",
    "        all_preds.extend(preds[mask].detach().cpu().numpy().tolist())\n",
    "        all_labels.extend(y_batch[mask].detach().cpu().numpy().tolist())\n",
    "\n",
    "        loop.set_postfix(loss=loss.item())\n",
    "\n",
    "    avg_loss = total_loss / len(train_loader)\n",
    "    acc_train = accuracy_score(all_labels, all_preds)\n",
    "\n",
    "    train_losses.append(avg_loss)\n",
    "    train_accuracies.append(acc_train)\n",
    "\n",
    "\n",
    "    model.eval()\n",
    "    test_preds, test_labels = [], []\n",
    "    with torch.no_grad():\n",
    "        for x_batch, y_batch in test_loader:\n",
    "            x_batch, y_batch = x_batch.to(device), y_batch.to(device)\n",
    "\n",
    "            logits = model(x_batch)  # [batch, seq_len, num_classes]\n",
    "            preds = torch.argmax(logits, dim=-1)  # [batch, seq_len]\n",
    "\n",
    "            mask = y_batch != 0\n",
    "            test_preds.extend(preds[mask].detach().cpu().numpy().tolist()) # убираю падинг и отключаю авто вычисление градиентов (detach)\n",
    "            test_labels.extend(y_batch[mask].detach().cpu().numpy().tolist())\n",
    "\n",
    "    acc_test = accuracy_score(test_labels, test_preds)\n",
    "    test_accuracies.append(acc_test)\n",
    "\n",
    "    print(f\"Epoch {epoch+1}/{epochs} | Loss: {avg_loss:.4f} \"\n",
    "          f\"| Acc Train: {acc_train:.4f} | Acc Test: {acc_test:.4f}\")\n"
   ]
  },
  {
   "cell_type": "code",
   "execution_count": null,
   "id": "7b1d6264-c835-492d-a67d-864c1ebe4e7c",
   "metadata": {
    "execution": {
     "iopub.execute_input": "2025-04-18T11:14:42.211526Z",
     "iopub.status.busy": "2025-04-18T11:14:42.211270Z",
     "iopub.status.idle": "2025-04-18T11:14:42.217032Z",
     "shell.execute_reply": "2025-04-18T11:14:42.216333Z",
     "shell.execute_reply.started": "2025-04-18T11:14:42.211506Z"
    },
    "id": "7b1d6264-c835-492d-a67d-864c1ebe4e7c",
    "outputId": "7c896b01-053e-4841-eb7c-62a6f329cf18",
    "trusted": true
   },
   "outputs": [
    {
     "data": {
      "text/plain": [
       "{2: '<beg>',\n",
       " 3: '<end>',\n",
       " 4: 'ADV',\n",
       " 5: 'ADJ',\n",
       " 6: 'VERB',\n",
       " 7: 'NOUN',\n",
       " 8: 'PUNCT',\n",
       " 9: 'PRON',\n",
       " 10: 'CONJ',\n",
       " 11: 'ADP',\n",
       " 12: 'PART',\n",
       " 13: 'X',\n",
       " 14: 'NUM',\n",
       " 15: 'LATN',\n",
       " 16: 'H',\n",
       " 17: 'SYM',\n",
       " 18: 'INTJ',\n",
       " 19: 'DET'}"
      ]
     },
     "execution_count": 53,
     "metadata": {},
     "output_type": "execute_result"
    }
   ],
   "source": [
    "tokens_y = {token: word for word, token in vocab_y.items() if token not in [0, 1]}\n",
    "tokens_y"
   ]
  },
  {
   "cell_type": "code",
   "execution_count": null,
   "id": "075e81bf-4a01-4ced-bde3-aa99c9f78168",
   "metadata": {
    "execution": {
     "iopub.execute_input": "2025-04-18T11:16:00.291168Z",
     "iopub.status.busy": "2025-04-18T11:16:00.290920Z",
     "iopub.status.idle": "2025-04-18T11:16:00.295946Z",
     "shell.execute_reply": "2025-04-18T11:16:00.295138Z",
     "shell.execute_reply.started": "2025-04-18T11:16:00.291150Z"
    },
    "id": "075e81bf-4a01-4ced-bde3-aa99c9f78168",
    "outputId": "eb135fdb-a68b-4426-ec9b-a23e6627d2bc",
    "trusted": true
   },
   "outputs": [
    {
     "data": {
      "text/plain": [
       "1042128"
      ]
     },
     "execution_count": 56,
     "metadata": {},
     "output_type": "execute_result"
    }
   ],
   "source": []
  },
  {
   "cell_type": "markdown",
   "id": "26f10d3f",
   "metadata": {
    "id": "26f10d3f"
   },
   "source": [
    "<p class=\"task\" id=\"5\"></p>\n",
    "\n",
    "5\\. Постройте и выведите на экран classification report на основе тестовой выборки. Выведите на экран пример предсказания частей речи обученной моделью.\n",
    "\n",
    "- [ ] Проверено на семинаре"
   ]
  },
  {
   "cell_type": "code",
   "execution_count": null,
   "id": "oiECzkptUkM5",
   "metadata": {
    "execution": {
     "iopub.execute_input": "2025-04-18T11:16:22.353264Z",
     "iopub.status.busy": "2025-04-18T11:16:22.352526Z",
     "iopub.status.idle": "2025-04-18T11:16:23.875542Z",
     "shell.execute_reply": "2025-04-18T11:16:23.874770Z",
     "shell.execute_reply.started": "2025-04-18T11:16:22.353236Z"
    },
    "id": "oiECzkptUkM5",
    "outputId": "49deedc6-855f-4277-d8cd-65add7679e4f",
    "trusted": true
   },
   "outputs": [
    {
     "name": "stdout",
     "output_type": "stream",
     "text": [
      "Classification Report:\n"
     ]
    },
    {
     "name": "stderr",
     "output_type": "stream",
     "text": [
      "/usr/local/lib/python3.11/dist-packages/sklearn/metrics/_classification.py:1344: UndefinedMetricWarning: Precision and F-score are ill-defined and being set to 0.0 in labels with no predicted samples. Use `zero_division` parameter to control this behavior.\n",
      "  _warn_prf(average, modifier, msg_start, len(result))\n",
      "/usr/local/lib/python3.11/dist-packages/sklearn/metrics/_classification.py:1344: UndefinedMetricWarning: Precision and F-score are ill-defined and being set to 0.0 in labels with no predicted samples. Use `zero_division` parameter to control this behavior.\n",
      "  _warn_prf(average, modifier, msg_start, len(result))\n"
     ]
    },
    {
     "name": "stdout",
     "output_type": "stream",
     "text": [
      "              precision    recall  f1-score   support\n",
      "\n",
      "       <beg>       1.00      1.00      1.00    132288\n",
      "       <end>       1.00      1.00      1.00    132288\n",
      "         ADV       0.93      0.93      0.93     50297\n",
      "         ADJ       0.97      0.88      0.92     78283\n",
      "        VERB       0.99      0.96      0.98    147957\n",
      "        NOUN       0.93      0.99      0.96    170679\n",
      "       PUNCT       1.00      1.00      1.00    148547\n",
      "        PRON       0.95      0.98      0.96     73546\n",
      "        CONJ       0.87      0.93      0.90     25001\n",
      "         ADP       0.97      1.00      0.98     52698\n",
      "        PART       0.95      0.83      0.88     22663\n",
      "           X       0.51      0.27      0.35       964\n",
      "         NUM       0.99      0.87      0.93      5385\n",
      "        LATN       0.62      0.69      0.65       465\n",
      "           H       0.50      0.10      0.17       396\n",
      "         SYM       0.67      0.89      0.76        18\n",
      "        INTJ       0.84      0.34      0.48       302\n",
      "         DET       0.00      0.00      0.00       351\n",
      "\n",
      "    accuracy                           0.97   1042128\n",
      "   macro avg       0.82      0.76      0.77   1042128\n",
      "weighted avg       0.97      0.97      0.97   1042128\n",
      "\n"
     ]
    },
    {
     "name": "stderr",
     "output_type": "stream",
     "text": [
      "/usr/local/lib/python3.11/dist-packages/sklearn/metrics/_classification.py:1344: UndefinedMetricWarning: Precision and F-score are ill-defined and being set to 0.0 in labels with no predicted samples. Use `zero_division` parameter to control this behavior.\n",
      "  _warn_prf(average, modifier, msg_start, len(result))\n"
     ]
    }
   ],
   "source": [
    "from sklearn.metrics import classification_report\n",
    "\n",
    "\n",
    "idx2tag = {idx: tag for tag, idx in vocab_y.items()}\n",
    "\n",
    "\n",
    "tag_names = [idx2tag[i] for i in sorted(idx2tag) if i > 1]\n",
    "tag_indices = list(range(2, len(idx2tag)))\n",
    "\n",
    "\n",
    "print(\"Classification Report:\")\n",
    "print(classification_report(test_labels, test_preds, labels=tag_indices, target_names=tag_names))\n"
   ]
  },
  {
   "cell_type": "code",
   "execution_count": null,
   "id": "0j9dlwDbRHin",
   "metadata": {
    "execution": {
     "iopub.execute_input": "2025-04-18T11:21:13.141848Z",
     "iopub.status.busy": "2025-04-18T11:21:13.141181Z",
     "iopub.status.idle": "2025-04-18T11:21:13.203520Z",
     "shell.execute_reply": "2025-04-18T11:21:13.202702Z",
     "shell.execute_reply.started": "2025-04-18T11:21:13.141826Z"
    },
    "id": "0j9dlwDbRHin",
    "outputId": "1e57b096-75ec-46f8-f1c4-9d1141df5bba",
    "trusted": true
   },
   "outputs": [
    {
     "name": "stdout",
     "output_type": "stream",
     "text": [
      "word            | true            | pred\n",
      "-------------------------------------------\n",
      "<beg>           | <beg>           | <beg>\n",
      "кругом          | ADV             | ADV\n",
      "лежали          | VERB            | VERB\n",
      "трупы           | NOUN            | NOUN\n",
      ".               | PUNCT           | PUNCT\n",
      "<end>           | <end>           | <end>\n"
     ]
    }
   ],
   "source": [
    "idx2word = {idx: word for word, idx in vocab_X.items()}\n",
    "\n",
    "\n",
    "model.eval()\n",
    "with torch.no_grad():\n",
    "    for x_sample, y_sample in test_loader:\n",
    "        x_sample, y_sample = x_sample[0:1].to(device), y_sample[0:1].to(device)\n",
    "        logits = model(x_sample)\n",
    "        preds = torch.argmax(logits, dim=-1)\n",
    "        break\n",
    "\n",
    "\n",
    "x_tokens = [idx2word.get(idx.item(), \"<UNK>\") for idx in x_sample[0] if idx.item() != 0]\n",
    "y_true_tags = [idx2tag.get(idx.item(), \"<UNK>\") for idx in y_sample[0] if idx.item() != 0]\n",
    "y_pred_tags = [idx2tag.get(idx.item(), \"<UNK>\") for idx in preds[0] if idx.item() != 0]\n",
    "\n",
    "\n",
    "print(f\"{'word':15} | {'true':15} | {'pred'}\")\n",
    "print('-------------------------------------------')\n",
    "for token, true_tag, pred_tag in zip(x_tokens, y_true_tags, y_pred_tags):\n",
    "    print(f\"{token:15} | {true_tag:15} | {pred_tag}\")"
   ]
  },
  {
   "cell_type": "code",
   "execution_count": null,
   "id": "ALPl3-LWRHf0",
   "metadata": {
    "id": "ALPl3-LWRHf0"
   },
   "outputs": [],
   "source": []
  },
  {
   "cell_type": "code",
   "execution_count": null,
   "id": "TjfeXmpaRHda",
   "metadata": {
    "id": "TjfeXmpaRHda"
   },
   "outputs": [],
   "source": []
  },
  {
   "cell_type": "markdown",
   "id": "c1edd19c",
   "metadata": {
    "id": "c1edd19c"
   },
   "source": [
    "<p class=\"task\" id=\"6\"></p>\n",
    "\n",
    "6\\. Решите задачи 4-5, используя двунаправленный рекуррентный слой.\n",
    "\n",
    "- [ ] Проверено на семинаре"
   ]
  },
  {
   "cell_type": "code",
   "execution_count": null,
   "id": "d402e9db-bf73-4467-9193-0fa7b0151418",
   "metadata": {
    "execution": {
     "iopub.execute_input": "2025-04-18T11:24:12.818119Z",
     "iopub.status.busy": "2025-04-18T11:24:12.817848Z",
     "iopub.status.idle": "2025-04-18T11:24:12.823503Z",
     "shell.execute_reply": "2025-04-18T11:24:12.822753Z",
     "shell.execute_reply.started": "2025-04-18T11:24:12.818099Z"
    },
    "id": "d402e9db-bf73-4467-9193-0fa7b0151418",
    "trusted": true
   },
   "outputs": [],
   "source": [
    "class POSTaggingModel2(nn.Module):\n",
    "    def __init__(self, vocab_size, embed_dim, hidden_size, num_classes, pad_idx=0):\n",
    "        super().__init__()\n",
    "\n",
    "        self.embedding = nn.Embedding(vocab_size, embed_dim, padding_idx=pad_idx)\n",
    "\n",
    "        self.rnn = nn.LSTM(input_size=embed_dim, hidden_size=hidden_size, batch_first=True, bidirectional=True)\n",
    "\n",
    "        self.fc1 = nn.Linear(hidden_size*2, 128)\n",
    "        self.fc2 = nn.Linear(128, 32)\n",
    "        self.fc3 = nn.Linear(32, num_classes)\n",
    "\n",
    "\n",
    "    def forward(self, x):\n",
    "        embedded = self.embedding(x)\n",
    "        outputs, (h, c) = self.rnn(embedded)\n",
    "        logits = self.fc3(F.relu(self.fc2(F.relu(self.fc1(outputs))))) # вводим o потому что нужны токены каждого слова\n",
    "        return logits"
   ]
  },
  {
   "cell_type": "code",
   "execution_count": null,
   "id": "35478466-1fd5-4ab1-9ddd-f03b54a9b682",
   "metadata": {
    "execution": {
     "iopub.execute_input": "2025-04-18T11:24:27.800854Z",
     "iopub.status.busy": "2025-04-18T11:24:27.800357Z",
     "iopub.status.idle": "2025-04-18T11:24:28.253316Z",
     "shell.execute_reply": "2025-04-18T11:24:28.252750Z",
     "shell.execute_reply.started": "2025-04-18T11:24:27.800832Z"
    },
    "id": "35478466-1fd5-4ab1-9ddd-f03b54a9b682",
    "trusted": true
   },
   "outputs": [],
   "source": [
    "model = POSTaggingModel2(vocab_size, embed_dim, hidden_size, len(vocab_y))\n",
    "model = model.to(device)"
   ]
  },
  {
   "cell_type": "code",
   "execution_count": null,
   "id": "44320304-f18d-419e-aba5-395afa41d96a",
   "metadata": {
    "execution": {
     "iopub.execute_input": "2025-04-18T11:24:38.941241Z",
     "iopub.status.busy": "2025-04-18T11:24:38.940965Z",
     "iopub.status.idle": "2025-04-18T11:24:38.945848Z",
     "shell.execute_reply": "2025-04-18T11:24:38.945144Z",
     "shell.execute_reply.started": "2025-04-18T11:24:38.941220Z"
    },
    "id": "44320304-f18d-419e-aba5-395afa41d96a",
    "trusted": true
   },
   "outputs": [],
   "source": [
    "criterion = nn.CrossEntropyLoss(ignore_index=0)\n",
    "optimizer = optim.AdamW(model.parameters(), lr=0.001)"
   ]
  },
  {
   "cell_type": "code",
   "execution_count": null,
   "id": "97d45738-e7d5-4516-a574-a0f2a817301b",
   "metadata": {
    "colab": {
     "referenced_widgets": [
      ""
     ]
    },
    "execution": {
     "iopub.execute_input": "2025-04-18T11:24:47.739183Z",
     "iopub.status.busy": "2025-04-18T11:24:47.738616Z",
     "iopub.status.idle": "2025-04-18T11:50:05.455189Z",
     "shell.execute_reply": "2025-04-18T11:50:05.454393Z",
     "shell.execute_reply.started": "2025-04-18T11:24:47.739160Z"
    },
    "id": "97d45738-e7d5-4516-a574-a0f2a817301b",
    "outputId": "2fb02976-3181-4ef2-f6e9-1bd955777c71",
    "trusted": true
   },
   "outputs": [
    {
     "data": {
      "application/vnd.jupyter.widget-view+json": {
       "model_id": "",
       "version_major": 2,
       "version_minor": 0
      },
      "text/plain": [
       "Epoch 1/10:   0%|          | 0/9648 [00:00<?, ?it/s]"
      ]
     },
     "metadata": {},
     "output_type": "display_data"
    },
    {
     "name": "stdout",
     "output_type": "stream",
     "text": [
      "Epoch 1/10 | Loss: 0.2075 | Acc Train: 0.9268 | Acc Test: 0.9567\n"
     ]
    },
    {
     "data": {
      "application/vnd.jupyter.widget-view+json": {
       "model_id": "",
       "version_major": 2,
       "version_minor": 0
      },
      "text/plain": [
       "Epoch 2/10:   0%|          | 0/9648 [00:00<?, ?it/s]"
      ]
     },
     "metadata": {},
     "output_type": "display_data"
    },
    {
     "name": "stdout",
     "output_type": "stream",
     "text": [
      "Epoch 2/10 | Loss: 0.0938 | Acc Train: 0.9679 | Acc Test: 0.9643\n"
     ]
    },
    {
     "data": {
      "application/vnd.jupyter.widget-view+json": {
       "model_id": "",
       "version_major": 2,
       "version_minor": 0
      },
      "text/plain": [
       "Epoch 3/10:   0%|          | 0/9648 [00:00<?, ?it/s]"
      ]
     },
     "metadata": {},
     "output_type": "display_data"
    },
    {
     "name": "stdout",
     "output_type": "stream",
     "text": [
      "Epoch 3/10 | Loss: 0.0707 | Acc Train: 0.9761 | Acc Test: 0.9681\n"
     ]
    },
    {
     "data": {
      "application/vnd.jupyter.widget-view+json": {
       "model_id": "",
       "version_major": 2,
       "version_minor": 0
      },
      "text/plain": [
       "Epoch 4/10:   0%|          | 0/9648 [00:00<?, ?it/s]"
      ]
     },
     "metadata": {},
     "output_type": "display_data"
    },
    {
     "name": "stdout",
     "output_type": "stream",
     "text": [
      "Epoch 4/10 | Loss: 0.0598 | Acc Train: 0.9798 | Acc Test: 0.9702\n"
     ]
    },
    {
     "data": {
      "application/vnd.jupyter.widget-view+json": {
       "model_id": "",
       "version_major": 2,
       "version_minor": 0
      },
      "text/plain": [
       "Epoch 5/10:   0%|          | 0/9648 [00:00<?, ?it/s]"
      ]
     },
     "metadata": {},
     "output_type": "display_data"
    },
    {
     "name": "stdout",
     "output_type": "stream",
     "text": [
      "Epoch 5/10 | Loss: 0.0536 | Acc Train: 0.9817 | Acc Test: 0.9696\n"
     ]
    },
    {
     "data": {
      "application/vnd.jupyter.widget-view+json": {
       "model_id": "",
       "version_major": 2,
       "version_minor": 0
      },
      "text/plain": [
       "Epoch 6/10:   0%|          | 0/9648 [00:00<?, ?it/s]"
      ]
     },
     "metadata": {},
     "output_type": "display_data"
    },
    {
     "name": "stdout",
     "output_type": "stream",
     "text": [
      "Epoch 6/10 | Loss: 0.0504 | Acc Train: 0.9827 | Acc Test: 0.9675\n"
     ]
    },
    {
     "data": {
      "application/vnd.jupyter.widget-view+json": {
       "model_id": "",
       "version_major": 2,
       "version_minor": 0
      },
      "text/plain": [
       "Epoch 7/10:   0%|          | 0/9648 [00:00<?, ?it/s]"
      ]
     },
     "metadata": {},
     "output_type": "display_data"
    },
    {
     "name": "stdout",
     "output_type": "stream",
     "text": [
      "Epoch 7/10 | Loss: 0.0487 | Acc Train: 0.9831 | Acc Test: 0.9683\n"
     ]
    },
    {
     "data": {
      "application/vnd.jupyter.widget-view+json": {
       "model_id": "",
       "version_major": 2,
       "version_minor": 0
      },
      "text/plain": [
       "Epoch 8/10:   0%|          | 0/9648 [00:00<?, ?it/s]"
      ]
     },
     "metadata": {},
     "output_type": "display_data"
    },
    {
     "name": "stdout",
     "output_type": "stream",
     "text": [
      "Epoch 8/10 | Loss: 0.0478 | Acc Train: 0.9834 | Acc Test: 0.9665\n"
     ]
    },
    {
     "data": {
      "application/vnd.jupyter.widget-view+json": {
       "model_id": "",
       "version_major": 2,
       "version_minor": 0
      },
      "text/plain": [
       "Epoch 9/10:   0%|          | 0/9648 [00:00<?, ?it/s]"
      ]
     },
     "metadata": {},
     "output_type": "display_data"
    },
    {
     "name": "stdout",
     "output_type": "stream",
     "text": [
      "Epoch 9/10 | Loss: 0.0473 | Acc Train: 0.9835 | Acc Test: 0.9639\n"
     ]
    },
    {
     "data": {
      "application/vnd.jupyter.widget-view+json": {
       "model_id": "",
       "version_major": 2,
       "version_minor": 0
      },
      "text/plain": [
       "Epoch 10/10:   0%|          | 0/9648 [00:00<?, ?it/s]"
      ]
     },
     "metadata": {},
     "output_type": "display_data"
    },
    {
     "name": "stdout",
     "output_type": "stream",
     "text": [
      "Epoch 10/10 | Loss: 0.0468 | Acc Train: 0.9836 | Acc Test: 0.9677\n"
     ]
    }
   ],
   "source": [
    "train_losses = []\n",
    "train_accuracies, test_accuracies = [], []\n",
    "epochs = 10\n",
    "\n",
    "for epoch in range(epochs):\n",
    "    model.train()\n",
    "    total_loss = 0\n",
    "    all_preds = []\n",
    "    all_labels = []\n",
    "\n",
    "    loop = tqdm(train_loader, desc=f\"Epoch {epoch+1}/{epochs}\", leave=False)\n",
    "    for x_batch, y_batch in loop:\n",
    "        x_batch, y_batch = x_batch.to(device), y_batch.to(device)\n",
    "\n",
    "        optimizer.zero_grad()\n",
    "\n",
    "        logits = model(x_batch)  # [batch, seq_len, num_classes]\n",
    "        loss = criterion(logits.view(-1, logits.shape[-1]), y_batch.view(-1))  # [batch * seq_len, num_classes] vs [batch * seq_len]\n",
    "\n",
    "        loss.backward()\n",
    "        optimizer.step()\n",
    "\n",
    "        total_loss += loss.item()\n",
    "\n",
    "        preds = torch.argmax(logits, dim=-1)  # [batch, seq_len]\n",
    "\n",
    "        mask = y_batch != 0  # паддинг маска\n",
    "        all_preds.extend(preds[mask].detach().cpu().numpy().tolist())\n",
    "        all_labels.extend(y_batch[mask].detach().cpu().numpy().tolist())\n",
    "\n",
    "        loop.set_postfix(loss=loss.item())\n",
    "\n",
    "    avg_loss = total_loss / len(train_loader)\n",
    "    acc_train = accuracy_score(all_labels, all_preds)\n",
    "\n",
    "    train_losses.append(avg_loss)\n",
    "    train_accuracies.append(acc_train)\n",
    "\n",
    "\n",
    "    model.eval()\n",
    "    test_preds, test_labels = [], []\n",
    "    with torch.no_grad():\n",
    "        for x_batch, y_batch in test_loader:\n",
    "            x_batch, y_batch = x_batch.to(device), y_batch.to(device)\n",
    "\n",
    "            logits = model(x_batch)  # [batch, seq_len, num_classes]\n",
    "            preds = torch.argmax(logits, dim=-1)  # [batch, seq_len]\n",
    "\n",
    "            mask = y_batch != 0\n",
    "            test_preds.extend(preds[mask].detach().cpu().numpy().tolist()) # убираю падинг и отключаю авто вычисление градиентов (detach)\n",
    "            test_labels.extend(y_batch[mask].detach().cpu().numpy().tolist())\n",
    "\n",
    "    acc_test = accuracy_score(test_labels, test_preds)\n",
    "    test_accuracies.append(acc_test)\n",
    "\n",
    "    print(f\"Epoch {epoch+1}/{epochs} | Loss: {avg_loss:.4f} \"\n",
    "          f\"| Acc Train: {acc_train:.4f} | Acc Test: {acc_test:.4f}\")\n"
   ]
  },
  {
   "cell_type": "code",
   "execution_count": null,
   "id": "b09f434d-3dda-441b-b2fc-e0c5a10cdf8c",
   "metadata": {
    "execution": {
     "iopub.execute_input": "2025-04-18T11:51:16.088491Z",
     "iopub.status.busy": "2025-04-18T11:51:16.087542Z",
     "iopub.status.idle": "2025-04-18T11:51:17.734004Z",
     "shell.execute_reply": "2025-04-18T11:51:17.733252Z",
     "shell.execute_reply.started": "2025-04-18T11:51:16.088467Z"
    },
    "id": "b09f434d-3dda-441b-b2fc-e0c5a10cdf8c",
    "outputId": "ad28cdb6-cefd-41a8-fb81-83a1d061ab15",
    "trusted": true
   },
   "outputs": [
    {
     "name": "stdout",
     "output_type": "stream",
     "text": [
      "Classification Report:\n"
     ]
    },
    {
     "name": "stderr",
     "output_type": "stream",
     "text": [
      "/usr/local/lib/python3.11/dist-packages/sklearn/metrics/_classification.py:1344: UndefinedMetricWarning: Precision and F-score are ill-defined and being set to 0.0 in labels with no predicted samples. Use `zero_division` parameter to control this behavior.\n",
      "  _warn_prf(average, modifier, msg_start, len(result))\n",
      "/usr/local/lib/python3.11/dist-packages/sklearn/metrics/_classification.py:1344: UndefinedMetricWarning: Precision and F-score are ill-defined and being set to 0.0 in labels with no predicted samples. Use `zero_division` parameter to control this behavior.\n",
      "  _warn_prf(average, modifier, msg_start, len(result))\n"
     ]
    },
    {
     "name": "stdout",
     "output_type": "stream",
     "text": [
      "              precision    recall  f1-score   support\n",
      "\n",
      "       <beg>       1.00      1.00      1.00    154355\n",
      "       <end>       1.00      1.00      1.00    154355\n",
      "         ADV       0.93      0.93      0.93     58907\n",
      "         ADJ       0.93      0.90      0.91     91169\n",
      "        VERB       0.99      0.96      0.98    172628\n",
      "        NOUN       0.97      0.96      0.97    199037\n",
      "       PUNCT       1.00      1.00      1.00    173111\n",
      "        PRON       0.96      0.98      0.97     85867\n",
      "        CONJ       0.86      0.94      0.90     29148\n",
      "         ADP       0.98      0.99      0.98     61537\n",
      "        PART       0.94      0.83      0.88     26432\n",
      "           X       0.06      0.41      0.10      1122\n",
      "         NUM       0.61      0.88      0.72      6323\n",
      "        LATN       0.78      0.66      0.72       557\n",
      "           H       0.41      0.10      0.16       452\n",
      "         SYM       0.68      0.86      0.76        22\n",
      "        INTJ       0.57      0.35      0.43       341\n",
      "         DET       0.00      0.00      0.00       404\n",
      "\n",
      "    accuracy                           0.97   1215767\n",
      "   macro avg       0.76      0.76      0.74   1215767\n",
      "weighted avg       0.97      0.97      0.97   1215767\n",
      "\n"
     ]
    },
    {
     "name": "stderr",
     "output_type": "stream",
     "text": [
      "/usr/local/lib/python3.11/dist-packages/sklearn/metrics/_classification.py:1344: UndefinedMetricWarning: Precision and F-score are ill-defined and being set to 0.0 in labels with no predicted samples. Use `zero_division` parameter to control this behavior.\n",
      "  _warn_prf(average, modifier, msg_start, len(result))\n"
     ]
    }
   ],
   "source": [
    "tag_names = [idx2tag[i] for i in sorted(idx2tag) if i > 1]\n",
    "tag_indices = list(range(2, len(idx2tag)))\n",
    "\n",
    "\n",
    "print(\"Classification Report:\")\n",
    "print(classification_report(test_labels, test_preds, labels=tag_indices, target_names=tag_names))\n"
   ]
  },
  {
   "cell_type": "code",
   "execution_count": null,
   "id": "65661841-a938-4702-a27c-8e34878e2a70",
   "metadata": {
    "execution": {
     "iopub.execute_input": "2025-04-18T11:50:44.397277Z",
     "iopub.status.busy": "2025-04-18T11:50:44.396757Z",
     "iopub.status.idle": "2025-04-18T11:50:44.413184Z",
     "shell.execute_reply": "2025-04-18T11:50:44.412451Z",
     "shell.execute_reply.started": "2025-04-18T11:50:44.397258Z"
    },
    "id": "65661841-a938-4702-a27c-8e34878e2a70",
    "outputId": "166259d0-c094-4a95-b49d-590a75053883",
    "trusted": true
   },
   "outputs": [
    {
     "name": "stdout",
     "output_type": "stream",
     "text": [
      "word            | true            | pred\n",
      "-------------------------------------------\n",
      "<beg>           | <beg>           | <beg>\n",
      "внезапно        | ADV             | ADV\n",
      "все             | ADJ             | ADJ\n",
      "трое            | NUM             | NUM\n",
      "очутились       | VERB            | VERB\n",
      "на              | ADP             | ADP\n",
      "краю            | NOUN            | NOUN\n",
      "отчаяния        | NOUN            | NOUN\n",
      ".               | PUNCT           | PUNCT\n",
      "<end>           | <end>           | <end>\n"
     ]
    }
   ],
   "source": [
    "model.eval()\n",
    "k = 0\n",
    "with torch.no_grad():\n",
    "    for x_sample, y_sample in test_loader:\n",
    "        x_sample, y_sample = x_sample[0:1].to(device), y_sample[0:1].to(device)\n",
    "        logits = model(x_sample)\n",
    "        preds = torch.argmax(logits, dim=-1)\n",
    "        k +=1\n",
    "        if k > 3:\n",
    "            break\n",
    "\n",
    "\n",
    "x_tokens = [idx2word.get(idx.item(), \"<UNK>\") for idx in x_sample[0] if idx.item() != 0]\n",
    "y_true_tags = [idx2tag.get(idx.item(), \"<UNK>\") for idx in y_sample[0] if idx.item() != 0]\n",
    "y_pred_tags = [idx2tag.get(idx.item(), \"<UNK>\") for idx in preds[0] if idx.item() != 0]\n",
    "\n",
    "\n",
    "print(f\"{'word':15} | {'true':15} | {'pred'}\")\n",
    "print('-------------------------------------------')\n",
    "for token, true_tag, pred_tag in zip(x_tokens, y_true_tags, y_pred_tags):\n",
    "    print(f\"{token:15} | {true_tag:15} | {pred_tag}\")"
   ]
  },
  {
   "cell_type": "code",
   "execution_count": null,
   "id": "34ec92fe-97e3-491a-878f-3f372c37acbc",
   "metadata": {
    "id": "34ec92fe-97e3-491a-878f-3f372c37acbc",
    "trusted": true
   },
   "outputs": [],
   "source": []
  }
 ],
 "metadata": {
  "accelerator": "GPU",
  "colab": {
   "gpuType": "T4",
   "provenance": []
  },
  "kaggle": {
   "accelerator": "gpu",
   "dataSources": [
    {
     "datasetId": 7180817,
     "sourceId": 11460051,
     "sourceType": "datasetVersion"
    }
   ],
   "isGpuEnabled": true,
   "isInternetEnabled": true,
   "language": "python",
   "sourceType": "notebook"
  },
  "kernelspec": {
   "display_name": "Python 3",
   "language": "python",
   "name": "python3"
  },
  "language_info": {
   "codemirror_mode": {
    "name": "ipython",
    "version": 3
   },
   "file_extension": ".py",
   "mimetype": "text/x-python",
   "name": "python",
   "nbconvert_exporter": "python",
   "pygments_lexer": "ipython3",
   "version": "3.11.11"
  }
 },
 "nbformat": 4,
 "nbformat_minor": 5
}
